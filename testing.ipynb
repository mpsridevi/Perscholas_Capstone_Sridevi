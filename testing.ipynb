{
 "cells": [
  {
   "cell_type": "code",
   "execution_count": 1,
   "metadata": {},
   "outputs": [],
   "source": [
    "#import neccassary libraries\n",
    "import pandas as pd\n",
    "import numpy as np\n",
    "from datetime import datetime\n",
    "\n",
    "import pyspark\n",
    "from pyspark.sql import SparkSession\n",
    "\n",
    "from pyspark.sql.types import StructType,StructField,StringType,IntegerType,DoubleType,TimestampType,VarcharType\n",
    "from pyspark.sql.functions import *\n",
    "import requests\n",
    "from pyspark.sql.functions import regexp_replace, col, concat_ws, lit, substring\n",
    "import login_key"
   ]
  },
  {
   "cell_type": "code",
   "execution_count": 2,
   "metadata": {},
   "outputs": [],
   "source": [
    "#Create Spark Session\n",
    "\n",
    "spark = SparkSession.builder.appName('SrideviCapstone').getOrCreate()"
   ]
  },
  {
   "cell_type": "code",
   "execution_count": 3,
   "metadata": {},
   "outputs": [],
   "source": [
    "creditcarddf=spark.read.format(\"jdbc\").options(driver=\"com.mysql.cj.jdbc.Driver\",\\\n",
    "                                     user=login_key.username,\\\n",
    "                                     password=login_key.password,\\\n",
    "                                     url=\"jdbc:mysql://localhost:3306/creditcard_capstone\",\\\n",
    "                                     dbtable=\"creditcard_capstone.cdw_sapp_credit_card\").load()"
   ]
  },
  {
   "cell_type": "code",
   "execution_count": 4,
   "metadata": {},
   "outputs": [],
   "source": [
    "branchdf=spark.read.format(\"jdbc\").options(driver=\"com.mysql.cj.jdbc.Driver\",\\\n",
    "                                     user=login_key.username,\\\n",
    "                                     password=login_key.password,\\\n",
    "                                     url=\"jdbc:mysql://localhost:3306/creditcard_capstone\",\\\n",
    "                                     dbtable=\"creditcard_capstone.cdw_sapp_branch\").load()"
   ]
  },
  {
   "cell_type": "code",
   "execution_count": 5,
   "metadata": {},
   "outputs": [],
   "source": [
    "custinfodf=spark.read.format(\"jdbc\").options(driver=\"com.mysql.cj.jdbc.Driver\",\\\n",
    "                                     user=login_key.username,\\\n",
    "                                     password=login_key.password,\\\n",
    "                                     url=\"jdbc:mysql://localhost:3306/creditcard_capstone\",\\\n",
    "                                     dbtable=\"creditcard_capstone.cdw_sapp_customer\").load()"
   ]
  },
  {
   "cell_type": "code",
   "execution_count": 6,
   "metadata": {},
   "outputs": [
    {
     "name": "stdout",
     "output_type": "stream",
     "text": [
      "+---------+----------+-----------+---------+----------------+--------------------+------------+----------+-------------+--------+-------------+-------------------+-------------------+\n",
      "|      SSN|FIRST_NAME|MIDDLE_NAME|LAST_NAME|  Credit_card_no| FULL_STREET_ADDRESS|   CUST_CITY|CUST_STATE| CUST_COUNTRY|CUST_ZIP|   CUST_PHONE|         CUST_EMAIL|       LAST_UPDATED|\n",
      "+---------+----------+-----------+---------+----------------+--------------------+------------+----------+-------------+--------+-------------+-------------------+-------------------+\n",
      "|123456100|      Alec|         wm|   Hooper|4210653310061055|Main Street North...|     Natchez|        MS|United States|   39120|(123)123-7818|AHooper@example.com|2018-04-21 11:49:02|\n",
      "|123453023|      Etta|    brendan|   Holman|4210653310102868|  Redwood Drive, 829|Wethersfield|        CT|United States|    6109|(123)123-8933|EHolman@example.com|2018-04-21 11:49:02|\n",
      "|123454487|    Wilber|   ezequiel|   Dunham|4210653310116272|12th Street East,...|     Huntley|        IL|United States|   60142|(123)124-3018|WDunham@example.com|2018-04-21 11:49:02|\n",
      "|123459758|   Eugenio|      trina|    Hardy|4210653310195948|Country Club Road...|   NewBerlin|        WI|United States|   53151|(123)124-3215| EHardy@example.com|2018-04-21 11:49:02|\n",
      "|123454431|   Wilfred|        may|    Ayers|4210653310356919| Madison Street, 301|      ElPaso|        TX|United States|   79930|(123)124-2074| WAyers@example.com|2018-04-21 11:49:02|\n",
      "+---------+----------+-----------+---------+----------------+--------------------+------------+----------+-------------+--------+-------------+-------------------+-------------------+\n",
      "only showing top 5 rows\n",
      "\n"
     ]
    }
   ],
   "source": [
    "custinfodf.show(5)"
   ]
  },
  {
   "cell_type": "code",
   "execution_count": null,
   "metadata": {},
   "outputs": [],
   "source": [
    "branchdf.show()"
   ]
  },
  {
   "cell_type": "code",
   "execution_count": null,
   "metadata": {},
   "outputs": [],
   "source": [
    "branchdf.columns"
   ]
  },
  {
   "cell_type": "code",
   "execution_count": null,
   "metadata": {},
   "outputs": [],
   "source": [
    "state_code = input(\"Please input 2 letters STATE code: \").upper()\n",
    "output213_df =  creditcarddf.join(branchdf, creditcarddf.BRANCH_CODE == branchdf.BRANCH_CODE)\\\n",
    "                        .filter(col(\"BRANCH_STATE\") == state_code)\\\n",
    "                        .groupby(\"BRANCH_STATE\")\\\n",
    "                        .agg(\n",
    "                            count(creditcarddf.BRANCH_CODE).alias(\"Number of Branches\"),\n",
    "                            count(creditcarddf.TRANSACTION_VALUE).alias(\"Number_of_Transaction\"),\n",
    "                            round(sum(creditcarddf.TRANSACTION_VALUE),2).alias(\"Total_Value_of_Transaction\")\n",
    "                            )"
   ]
  },
  {
   "cell_type": "code",
   "execution_count": null,
   "metadata": {},
   "outputs": [],
   "source": [
    "output213_df.show(5)"
   ]
  },
  {
   "cell_type": "code",
   "execution_count": null,
   "metadata": {},
   "outputs": [],
   "source": [
    "creditcarddf.show(5)\n"
   ]
  },
  {
   "cell_type": "code",
   "execution_count": null,
   "metadata": {},
   "outputs": [],
   "source": [
    "creditcarddf.columns\n"
   ]
  },
  {
   "cell_type": "code",
   "execution_count": null,
   "metadata": {},
   "outputs": [],
   "source": [
    "zipcode = input(\"Please enter zip code: \")\n",
    "year_month = input(\"Enter Year: \") + input(\"Enter Month: \") + \"%\"\n",
    "print(\"The transactions made by the customers living in the zip code: \", zipcode)\n",
    "\n",
    "output211_df= creditcarddf.join(custinfodf, creditcarddf.CUST_CC_NO == custinfodf.Credit_card_no)\\\n",
    "                        .select(\"TRANSACTION_ID\", \"TRANSACTION_VALUE\",\"TRANSACTION_TYPE\", col(\"TIMEID\").alias(\"Transaction Dates\"))\\\n",
    "                        .filter((col(\"CUST_ZIP\") == zipcode ) & (creditcarddf.TIMEID.like(year_month)))\\\n",
    "                        .dropDuplicates()\\\n",
    "                        .sort(col(\"TIMEID\").desc())\n",
    "output211_df.show()"
   ]
  },
  {
   "cell_type": "code",
   "execution_count": null,
   "metadata": {},
   "outputs": [],
   "source": [
    "ssn_user = \"%\"+ input(\"Please enter the last 4 digits of your SSN: \")\n",
    "name_user = input(\"Enter your Last Name: \") \n",
    "card_user = \"%\" + input(\"Enter the last 4 digits of your Credit card Number: \")\n",
    "\n",
    "output221_df= custinfodf.filter((col(\"LAST_NAME\") == name_user) & custinfodf.SSN.like(ssn_user) & custinfodf.Credit_card_no.like(card_user)).dropDuplicates()                         \n",
    "\n",
    "output221_df.show()"
   ]
  },
  {
   "cell_type": "code",
   "execution_count": null,
   "metadata": {},
   "outputs": [],
   "source": [
    "ssn_user = input(\"Please provide your SSN: \")\n",
    "\n",
    "print(\"I am happy to help you here, What do you want to update?\\n\")\n",
    "\n",
    "options_to_update = input(\"Please select from the options: \\n 1. Address update, 2.Phone Update, 3.Email Update\")\n",
    "if(int(options_to_update) == 1):\n",
    "    print(\"ADDRESS UPDATE:\\n\")\n",
    "    new_full_street_address = input(\"\\nPlease provide your Street address with the apartment number seperated with comma\")\n",
    "    new_cust_city = input(\"\\nPlease provide your City\")\n",
    "    new_cust_state = input(\"\\nPlease provide your State code\")\n",
    "    new_cust_country = input(\"\\nPlease provide your Country\")\n",
    "    new_cust_zip = input(\"\\nPlease provide your zipcode\")\n",
    "elif(int(options_to_update) == 2):\n",
    "    print(\"PHONE NUMBER UPDATE\")\n",
    "    new_cust_phone = str(input(\"\\nPlease provide 10 digit phone number\"))\n",
    "elif(int(options_to_update) == 3):\n",
    "    print(\"EMAIL UPDATE\")\n",
    "    new_cust_email = input(\"Please provide a valid email id\")\n",
    "\n",
    "custinfodf = custinfodf.withColumn(\"FULL_STREET_ADDRESS\", when(col(\"SSN\")==ssn_user, new_full_street_address.title()).otherwise(custinfodf.FULL_STREET_ADDRESS))\n",
    "custinfodf = custinfodf.withColumn(\"CUST_CITY\", when(col(\"SSN\")==ssn_user, new_cust_city.title()).otherwise(custinfodf.CUST_CITY))\n",
    "custinfodf = custinfodf.withColumn(\"CUST_STATE\", when(col(\"SSN\")==ssn_user, new_cust_state.upper()).otherwise(custinfodf.CUST_STATE))\n",
    "custinfodf = custinfodf.withColumn(\"CUST_COUNTRY\", when(col(\"SSN\")==ssn_user, new_cust_country.title()).otherwise(custinfodf.CUST_COUNTRY))\n",
    "custinfodf = custinfodf.withColumn(\"CUST_ZIP\", when(col(\"SSN\")==ssn_user, new_cust_zip).otherwise(custinfodf.CUST_ZIP))\n",
    "\n",
    "\n",
    "custinfodf = custinfodf.withColumn(\"CUST_EMAIL\", when(col(\"SSN\")==ssn_user, new_cust_email).otherwise(custinfodf.CUST_EMAIL))\n",
    "\n",
    "custinfodf = custinfodf.withColumn(\"CUST_PHONE\", when(col(\"SSN\")==ssn_user, new_cust_phone).otherwise(custinfodf.CUST_PHONE))\n",
    "custinfodf = custinfodf.withColumn(\"CUST_PHONE\", when(col(\"SSN\")==ssn_user, concat(lit(\"(\"),substring(col(\"CUST_PHONE\"), 1, 3), lit(\")\"),\n",
    "                                                              substring(col(\"CUST_PHONE\"), 4, 3), lit(\"-\"),\n",
    "                                                              substring(col(\"CUST_PHONE\"), 7, 4))).otherwise(custinfodf.CUST_PHONE))\n",
    "\n",
    "custinfodf = custinfodf.withColumn(\"LAST_UPDATED\", when(col(\"SSN\")== ssn_user , from_unixtime(current_timestamp().cast(\"long\"))).otherwise(custinfodf.LAST_UPDATED))                                                             \n",
    "\n",
    "custinfodf.show()"
   ]
  },
  {
   "cell_type": "code",
   "execution_count": 14,
   "metadata": {},
   "outputs": [
    {
     "name": "stdout",
     "output_type": "stream",
     "text": [
      "\n",
      "I am happy to help you here, What do you want to update?\n",
      "\n",
      "\n",
      "\n",
      "EMAIL UPDATE\n",
      "+---------+----------+-----------+---------+----------------+--------------------+---------+----------+-------------+--------+-------------+-------------+-------------------+\n",
      "|      SSN|FIRST_NAME|MIDDLE_NAME|LAST_NAME|  Credit_card_no| FULL_STREET_ADDRESS|CUST_CITY|CUST_STATE| CUST_COUNTRY|CUST_ZIP|   CUST_PHONE|   CUST_EMAIL|       LAST_UPDATED|\n",
      "+---------+----------+-----------+---------+----------------+--------------------+---------+----------+-------------+--------+-------------+-------------+-------------------+\n",
      "|123454487|    Wilber|   ezequiel|   Dunham|4210653310116272|12th Street East,...|  Huntley|        IL|United States|   60142|(123)124-3018|123@gmail.com|2023-10-12 17:08:38|\n",
      "+---------+----------+-----------+---------+----------------+--------------------+---------+----------+-------------+--------+-------------+-------------+-------------------+\n",
      "only showing top 1 row\n",
      "\n"
     ]
    },
    {
     "data": {
      "text/plain": [
       "None"
      ]
     },
     "metadata": {},
     "output_type": "display_data"
    }
   ],
   "source": [
    "ssn_user = input(\"\\nPlease provide your full SSN: \")\n",
    "\n",
    "print(\"\\nI am happy to help you here, What do you want to update?\\n\")\n",
    "\n",
    "options_to_update = input(\"\"\"\\n Please select from the options: \n",
    "                          1. Last Name Update, 2. Credit Card Number Update, 3. Address update, 4.Phone Update, 5.Email Update:   \"\"\")\n",
    "print(\"\\n\")\n",
    "if(int(options_to_update) == 1):\n",
    "    print(\"LAST NAME UPDATE\\n\")\n",
    "    new_last_name = input(\"\\nPlease provide your Last name\")\n",
    "    custinfodf = custinfodf.withColumn(\"FULL_STREET_ADDRESS\", when(col(\"SSN\")==ssn_user, new_full_street_address.title()).otherwise(custinfodf.FULL_STREET_ADDRESS))\n",
    "    print(\"ADDRESS UPDATE:\\n\")\n",
    "    new_full_street_address = input(\"\\nPlease provide your Street address with the apartment number seperated with comma   \")\n",
    "    new_cust_city = input(\"\\nPlease provide your City   \")\n",
    "    new_cust_state = input(\"\\nPlease provide your State code   \")\n",
    "    new_cust_country = input(\"\\nPlease provide your Country    \")\n",
    "    new_cust_zip = input(\"\\nPlease provide your zipcode    \")\n",
    "\n",
    "    custinfodf = custinfodf.withColumn(\"FULL_STREET_ADDRESS\", when(col(\"SSN\")==ssn_user, new_full_street_address.title()).otherwise(custinfodf.FULL_STREET_ADDRESS))\n",
    "    custinfodf = custinfodf.withColumn(\"CUST_CITY\", when(col(\"SSN\")==ssn_user, new_cust_city.title()).otherwise(custinfodf.CUST_CITY))\n",
    "    custinfodf = custinfodf.withColumn(\"CUST_STATE\", when(col(\"SSN\")==ssn_user, new_cust_state.upper()).otherwise(custinfodf.CUST_STATE))\n",
    "    custinfodf = custinfodf.withColumn(\"CUST_COUNTRY\", when(col(\"SSN\")==ssn_user, new_cust_country.title()).otherwise(custinfodf.CUST_COUNTRY))\n",
    "    custinfodf = custinfodf.withColumn(\"CUST_ZIP\", when(col(\"SSN\")==ssn_user, new_cust_zip).otherwise(custinfodf.CUST_ZIP))\n",
    "    \n",
    "elif(int(options_to_update) == 2):\n",
    "    print(\"PHONE NUMBER UPDATE\")\n",
    "    new_cust_phone = str(input(\"\\nPlease provide 10 digit phone number   \"))\n",
    "    custinfodf = custinfodf.withColumn(\"CUST_PHONE\", when(col(\"SSN\")==ssn_user, new_cust_phone).otherwise(custinfodf.CUST_PHONE))\n",
    "    custinfodf = custinfodf.withColumn(\"CUST_PHONE\", when(col(\"SSN\")==ssn_user, concat(lit(\"(\"),substring(col(\"CUST_PHONE\"), 1, 3), lit(\")\"),\n",
    "                                                            substring(col(\"CUST_PHONE\"), 4, 3), lit(\"-\"),\n",
    "                                                            substring(col(\"CUST_PHONE\"), 7, 4))).otherwise(custinfodf.CUST_PHONE))\n",
    "\n",
    "elif(int(options_to_update) == 3):\n",
    "    print(\"EMAIL UPDATE\")\n",
    "    new_cust_email = input(\"Please provide a valid email id    \")\n",
    "    custinfodf = custinfodf.withColumn(\"CUST_EMAIL\", when(col(\"SSN\")==ssn_user, new_cust_email).otherwise(custinfodf.CUST_EMAIL))\n",
    "    \n",
    "\n",
    "custinfodf = custinfodf.withColumn(\"LAST_UPDATED\", when(col(\"SSN\")== ssn_user , from_unixtime(current_timestamp().cast(\"long\"))).otherwise(custinfodf.LAST_UPDATED))                                                             \n",
    "\n",
    "display(custinfodf.sort(desc(\"LAST_UPDATED\")).show(1))\n"
   ]
  },
  {
   "cell_type": "markdown",
   "metadata": {},
   "source": []
  },
  {
   "cell_type": "code",
   "execution_count": null,
   "metadata": {},
   "outputs": [],
   "source": []
  },
  {
   "cell_type": "code",
   "execution_count": 10,
   "metadata": {},
   "outputs": [
    {
     "name": "stdout",
     "output_type": "stream",
     "text": [
      "\n",
      "\n",
      "                           ACCOUNT SUMMARY                                                  \n",
      "Monthly Bill for the Credit Card Holder *******2868 ---- Etta Holman \n",
      "Billing Period: April 2018\n",
      "Previous Balance:                            \n",
      "+----------------+\n",
      "|PREVIOUS BALANCE|\n",
      "+----------------+\n",
      "|           19.33|\n",
      "+----------------+\n",
      "\n",
      "Individual Breakup Summary for the month   April 2018                         \n",
      "\n",
      "+----------+----------------+-----------------+--------------+\n",
      "|      Date|TRANSACTION_TYPE|TRANSACTION_VALUE|TRANSACTION_ID|\n",
      "+----------+----------------+-----------------+--------------+\n",
      "|2018-04-16|       Education|            10.73|         36784|\n",
      "|2018-04-11|           Bills|            26.35|         36787|\n",
      "|2018-04-18|      Healthcare|            87.23|         36793|\n",
      "+----------+----------------+-----------------+--------------+\n",
      "\n",
      "Purchases and Adjustments Balance                            \n",
      "\n",
      "+-------------------------+\n",
      "|PURCHASES AND ADJUSTMENTS|\n",
      "+-------------------------+\n",
      "|                   124.31|\n",
      "+-------------------------+\n",
      "\n",
      "Minimum Payment Due:                            $0\n",
      "\n",
      "Fees Charged:                                   $0\n",
      "\n",
      "Interest Charged:                              $0\n",
      "\n",
      "New Balance:                                       \n",
      "+-------------------+\n",
      "|NEW ACCOUNT BALANCE|\n",
      "+-------------------+\n",
      "|             124.31|\n",
      "+-------------------+\n",
      "\n"
     ]
    }
   ],
   "source": [
    "ssn_user = \"%\"+ input(\"Please enter the last 4 digits of your SSN: \")\n",
    "name_user = input(\"Enter your Last Name: \") \n",
    "last_4_digits = input(\"Enter the last 4 digits of your Credit card Number: \")\n",
    "card_user = \"%\" + last_4_digits\n",
    "\n",
    "billyear = input(\"Enter the Year : \")\n",
    "billmonth = input(\"Enter the Month: \")\n",
    "#print(billmonth)\n",
    "if (int(billmonth)>=10) or (len(billmonth)==2):\n",
    "        curr_month = billyear + billmonth + \"%\"\n",
    "        prev_month = billyear + \"0\"+str(int(billmonth)-1) + \"%\"\n",
    "        monthlist = billmonth\n",
    "else:\n",
    "        prev_month = billyear + \"0\" +str(int(billmonth)-1) + \"%\"\n",
    "        curr_month = billyear + \"0\"+ billmonth + \"%\"\n",
    "        month_list = \"0\"+billmonth\n",
    "\n",
    "months_list = {\"01\":\"January\",\"02\":\"Feburary\", \n",
    "            \"03\":\"March\", \"04\":\"April\", \n",
    "            \"05\":\"May\", \"06\":\"June\", \n",
    "            \"07\":\"July\", \"08\":\"August\",\n",
    "            \"09\":\"September\", \"10\":\"October\",\n",
    "            \"11\":\"November\", \"12\":\"December\"}\n",
    "\n",
    "firstname = custinfodf.filter((col(\"LAST_NAME\") == name_user.title()) & custinfodf.SSN.like(ssn_user) & custinfodf.Credit_card_no.like(card_user)).head()[1]\n",
    "lastname = custinfodf.filter((col(\"LAST_NAME\") == name_user.title()) & custinfodf.SSN.like(ssn_user) & custinfodf.Credit_card_no.like(card_user)).head()[3]\n",
    "credit_card_number = custinfodf.filter((col(\"LAST_NAME\") == name_user.title()) & custinfodf.SSN.like(ssn_user) & custinfodf.Credit_card_no.like(card_user)).head()[4]\n",
    "                                                                          \n",
    "print(\"\\n\")\n",
    "print(\"                           ACCOUNT SUMMARY                                                  \")\n",
    "print(f\"Monthly Bill for the Credit Card Holder *******{last_4_digits} ---- {firstname} {lastname} \")\n",
    "\n",
    "print(f\"Billing Period: {months_list[billmonth]} {billyear}\")\n",
    "print(\"Previous Balance:                            \")\n",
    "output221_df_prev = creditcarddf.filter((col(\"CUST_CC_NO\") == credit_card_number) & (creditcarddf.TIMEID.like(prev_month)))\\\n",
    "        .withColumn(\"Date\", to_date(col(\"TIMEID\"), \"yyyyMMdd\"))\\\n",
    "        .select(\"Date\", \"TRANSACTION_TYPE\", \"TRANSACTION_VALUE\", \"TRANSACTION_ID\")\n",
    "prev_month_balance = output221_df_prev.agg(round(sum(creditcarddf.TRANSACTION_VALUE),2).alias(\"PREVIOUS BALANCE\"))\n",
    "prev_month_balance.show()\n",
    "output221_df_curr = creditcarddf.filter((col(\"CUST_CC_NO\") == credit_card_number) & (creditcarddf.TIMEID.like(curr_month)))\\\n",
    "        .withColumn(\"Date\", to_date(col(\"TIMEID\"), \"yyyyMMdd\"))\\\n",
    "        .select(\"Date\", \"TRANSACTION_TYPE\", \"TRANSACTION_VALUE\", \"TRANSACTION_ID\")\n",
    "print(f\"Individual Breakup Summary for the month   {months_list[billmonth]} {billyear}                         \\n\")\n",
    "output221_df_curr.show(10)\n",
    "print(\"Purchases and Adjustments Balance                            \\n\")\n",
    "Purchases_Adjustments = output221_df_curr.agg(round(sum(creditcarddf.TRANSACTION_VALUE),2).alias(\"PURCHASES AND ADJUSTMENTS\"))\n",
    "Purchases_Adjustments.show()\n",
    "print(\"Minimum Payment Due:                            $0\\n\")\n",
    "print(\"Fees Charged:                                   $0\\n\")\n",
    "print(\"Interest Charged:                              $0\\n\")\n",
    "print(\"New Balance:                                       \")\n",
    "New_Balance = output221_df_curr.agg(round(sum(creditcarddf.TRANSACTION_VALUE),2).alias(\"NEW ACCOUNT BALANCE\"))\n",
    "New_Balance.show()\n",
    "\n"
   ]
  },
  {
   "cell_type": "code",
   "execution_count": null,
   "metadata": {},
   "outputs": [],
   "source": [
    "New_Balance = output221_df_curr.agg(round(sum(creditcarddf.TRANSACTION_VALUE),2).alias(\"NEW ACCOUNT BALANCE\"))\n",
    "print(New_Balance)"
   ]
  },
  {
   "cell_type": "code",
   "execution_count": null,
   "metadata": {},
   "outputs": [],
   "source": [
    "ssn_user = \"%\"+ input(\"Please enter the last 4 digits of your SSN: \")\n",
    "last_4_digits = input(\"Enter the last 4 digits of your Credit card Number: \")\n",
    "card_user = \"%\" + last_4_digits\n",
    "\n",
    "start_date = (input(\"Enter Starting date YYYYMMDD format: \"))\n",
    "end_date = (input(\"Enter Ending date YYYYMMDD format: \"))\n",
    "output_224df = creditcarddf.filter((col(\"TIMEID\") > start_date ) & (col(\"TIMEID\") < end_date ))\\\n",
    "                        .filter(creditcarddf.CUST_SSN.like(ssn_user) & creditcarddf.CUST_CC_NO.like(card_user))\\\n",
    "                        .withColumn(\"Date\", to_date(col(\"TIMEID\"), \"yyyyMMdd\"))\\\n",
    "                        .sort(col(\"TIMEID\").desc())\\\n",
    "                        .select( \"Date\", \"BRANCH_CODE\", \"TRANSACTION_TYPE\", \"TRANSACTION_VALUE\",\"TRANSACTION_ID\")\n",
    "                      \n",
    "print(f\"The Transactions happened between {end_date} (YYYYMMDD) and {start_date} (YYYYMMDD) for the customer having the credit card ending with last 4 digits {last_4_digits}:\")\n",
    "print(\"\\n\")\n",
    "output_224df.show()"
   ]
  },
  {
   "cell_type": "code",
   "execution_count": 22,
   "metadata": {},
   "outputs": [
    {
     "name": "stdout",
     "output_type": "stream",
     "text": [
      "+---------+----------+-----------+---------+----------------+-------------------+------------+----------+-------------+--------+-------------+-------------------+-------------------+\n",
      "|      SSN|FIRST_NAME|MIDDLE_NAME|LAST_NAME|  Credit_card_no|FULL_STREET_ADDRESS|   CUST_CITY|CUST_STATE| CUST_COUNTRY|CUST_ZIP|   CUST_PHONE|         CUST_EMAIL|       LAST_UPDATED|\n",
      "+---------+----------+-----------+---------+----------------+-------------------+------------+----------+-------------+--------+-------------+-------------------+-------------------+\n",
      "|123453023|      Etta|    brendan|   Holman|4210653310102868| Redwood Drive, 829|Wethersfield|        CT|United States|    6109|(123)123-8933|EHolman@example.com|2018-04-21 11:49:02|\n",
      "+---------+----------+-----------+---------+----------------+-------------------+------------+----------+-------------+--------+-------------+-------------------+-------------------+\n",
      "\n"
     ]
    }
   ],
   "source": [
    "ssn_user = \"%\"+ input(\"Please enter the last 4 digits of your SSN: \")\n",
    "name_user = input(\"Enter your Last Name: \") \n",
    "#card_user = \"%\" + input(\"Enter the last 4 digits of your Credit card Number: \")\n",
    "\n",
    "#output221_df= custinfodf.filter((col(\"LAST_NAME\") == name_user) & custinfodf.SSN.like(ssn_user) & custinfodf.Credit_card_no.like(card_user)).dropDuplicates()\n",
    "output221_df= custinfodf.filter((col(\"LAST_NAME\") == name_user) & custinfodf.SSN.like(ssn_user)).dropDuplicates()\n",
    "\n",
    "output221_df.show()\n"
   ]
  }
 ],
 "metadata": {
  "kernelspec": {
   "display_name": "Python 3",
   "language": "python",
   "name": "python3"
  },
  "language_info": {
   "codemirror_mode": {
    "name": "ipython",
    "version": 3
   },
   "file_extension": ".py",
   "mimetype": "text/x-python",
   "name": "python",
   "nbconvert_exporter": "python",
   "pygments_lexer": "ipython3",
   "version": "3.10.11"
  }
 },
 "nbformat": 4,
 "nbformat_minor": 2
}
