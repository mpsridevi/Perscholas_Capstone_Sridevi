{
 "cells": [
  {
   "cell_type": "code",
   "execution_count": 1,
   "metadata": {},
   "outputs": [],
   "source": [
    "import pyspark\n",
    "from pyspark.sql import SparkSession\n",
    "\n",
    "spark = SparkSession.builder.appName('SrideviCapstone').getOrCreate()\n",
    "\n",
    "creditcarddf = spark.read.load(\"cdw_sapp_credit.json\", format=\"json\", header=True, inferSchema=True)\n"
   ]
  },
  {
   "cell_type": "code",
   "execution_count": 2,
   "metadata": {},
   "outputs": [
    {
     "name": "stdout",
     "output_type": "stream",
     "text": [
      "root\n",
      " |-- BRANCH_CODE: long (nullable = true)\n",
      " |-- CREDIT_CARD_NO: string (nullable = true)\n",
      " |-- CUST_SSN: long (nullable = true)\n",
      " |-- DAY: long (nullable = true)\n",
      " |-- MONTH: long (nullable = true)\n",
      " |-- TRANSACTION_ID: long (nullable = true)\n",
      " |-- TRANSACTION_TYPE: string (nullable = true)\n",
      " |-- TRANSACTION_VALUE: double (nullable = true)\n",
      " |-- YEAR: long (nullable = true)\n",
      "\n",
      "+-------+------------------+--------------------+-------------------+-----------------+------------------+------------------+----------------+------------------+--------------------+\n",
      "|summary|       BRANCH_CODE|      CREDIT_CARD_NO|           CUST_SSN|              DAY|             MONTH|    TRANSACTION_ID|TRANSACTION_TYPE| TRANSACTION_VALUE|                YEAR|\n",
      "+-------+------------------+--------------------+-------------------+-----------------+------------------+------------------+----------------+------------------+--------------------+\n",
      "|  count|             46694|               46694|              46694|            46694|             46694|             46694|           46694|             46694|               46694|\n",
      "|   mean| 75.00057823274939|4.210653353368964E15|1.234555184812824E8|14.50736711354778| 6.516875829871076|           23347.5|            null| 51.03938214759932|              2018.0|\n",
      "| stddev|51.389074910957895|2.5604641248039957E7| 2561.2609103365367|8.066305022516385|3.4535079421269828|13479.541071564714|            null|28.783264046884938|1.19216201391582E-13|\n",
      "|    min|                 1|    4210653310061055|          123451007|                1|                 1|                 1|           Bills|              1.01|                2018|\n",
      "|    max|               192|    4210653399939240|          123459988|               28|                12|             46694|            Test|            100.99|                2018|\n",
      "+-------+------------------+--------------------+-------------------+-----------------+------------------+------------------+----------------+------------------+--------------------+\n",
      "\n",
      "+-----------+----------------+---------+---+-----+--------------+----------------+-----------------+----+\n",
      "|BRANCH_CODE|  CREDIT_CARD_NO| CUST_SSN|DAY|MONTH|TRANSACTION_ID|TRANSACTION_TYPE|TRANSACTION_VALUE|YEAR|\n",
      "+-----------+----------------+---------+---+-----+--------------+----------------+-----------------+----+\n",
      "|        114|4210653349028689|123459988| 14|    2|             1|       Education|             78.9|2018|\n",
      "|         35|4210653349028689|123459988| 20|    3|             2|   Entertainment|            14.24|2018|\n",
      "|        160|4210653349028689|123459988|  8|    7|             3|         Grocery|             56.7|2018|\n",
      "|        114|4210653349028689|123459988| 19|    4|             4|   Entertainment|            59.73|2018|\n",
      "|         93|4210653349028689|123459988| 10|   10|             5|             Gas|             3.59|2018|\n",
      "|        164|4210653349028689|123459988| 28|    5|             6|       Education|             6.89|2018|\n",
      "|        119|4210653349028689|123459988| 19|    5|             7|   Entertainment|            43.39|2018|\n",
      "|         23|4210653349028689|123459988|  8|    8|             8|             Gas|            95.39|2018|\n",
      "|        166|4210653349028689|123459988| 18|    3|             9|   Entertainment|            93.26|2018|\n",
      "|         83|4210653349028689|123459988|  3|    9|            10|           Bills|           100.38|2018|\n",
      "|         52|4210653349028689|123459988| 21|    8|            11|             Gas|            98.75|2018|\n",
      "|         17|4210653349028689|123459988| 24|   12|            12|             Gas|            42.71|2018|\n",
      "|         80|4210653349028689|123459988|  3|    4|            13|         Grocery|            40.24|2018|\n",
      "|         50|4210653349028689|123459988| 15|    4|            14|           Bills|            17.81|2018|\n",
      "|        123|4210653349028689|123459988| 17|    5|            15|           Bills|             29.0|2018|\n",
      "|          9|4210653349028689|123459988|  6|    7|            16|            Test|            70.63|2018|\n",
      "|          3|4210653349028689|123459988| 28|    9|            17|            Test|            27.04|2018|\n",
      "|        135|4210653349028689|123459988|  4|    7|            18|   Entertainment|            88.75|2018|\n",
      "|        103|4210653349028689|123459988| 24|    4|            19|            Test|            77.02|2018|\n",
      "|         78|4210653349028689|123459988|  8|   10|            20|           Bills|            34.34|2018|\n",
      "+-----------+----------------+---------+---+-----+--------------+----------------+-----------------+----+\n",
      "only showing top 20 rows\n",
      "\n"
     ]
    }
   ],
   "source": [
    "creditcarddf.columns\n",
    "creditcarddf.printSchema()\n",
    "creditcarddf.describe().show()\n",
    "creditcarddf.show()"
   ]
  },
  {
   "cell_type": "code",
   "execution_count": 3,
   "metadata": {},
   "outputs": [],
   "source": [
    "customerdf = spark.read.load(\"cdw_sapp_custmer.json\", format=\"json\", header=True, inferSchema=True)"
   ]
  },
  {
   "cell_type": "code",
   "execution_count": 4,
   "metadata": {},
   "outputs": [
    {
     "name": "stdout",
     "output_type": "stream",
     "text": [
      "root\n",
      " |-- APT_NO: string (nullable = true)\n",
      " |-- CREDIT_CARD_NO: string (nullable = true)\n",
      " |-- CUST_CITY: string (nullable = true)\n",
      " |-- CUST_COUNTRY: string (nullable = true)\n",
      " |-- CUST_EMAIL: string (nullable = true)\n",
      " |-- CUST_PHONE: long (nullable = true)\n",
      " |-- CUST_STATE: string (nullable = true)\n",
      " |-- CUST_ZIP: string (nullable = true)\n",
      " |-- FIRST_NAME: string (nullable = true)\n",
      " |-- LAST_NAME: string (nullable = true)\n",
      " |-- LAST_UPDATED: string (nullable = true)\n",
      " |-- MIDDLE_NAME: string (nullable = true)\n",
      " |-- SSN: long (nullable = true)\n",
      " |-- STREET_NAME: string (nullable = true)\n",
      "\n",
      "+-------+------------------+--------------------+---------+-------------+--------------------+------------------+----------+------------------+----------+---------+--------------------+-----------+--------------------+-----------+\n",
      "|summary|            APT_NO|      CREDIT_CARD_NO|CUST_CITY| CUST_COUNTRY|          CUST_EMAIL|        CUST_PHONE|CUST_STATE|          CUST_ZIP|FIRST_NAME|LAST_NAME|        LAST_UPDATED|MIDDLE_NAME|                 SSN|STREET_NAME|\n",
      "+-------+------------------+--------------------+---------+-------------+--------------------+------------------+----------+------------------+----------+---------+--------------------+-----------+--------------------+-----------+\n",
      "|  count|               952|                 952|      952|          952|                 952|               952|       952|               952|       952|      952|                 952|        952|                 952|        952|\n",
      "|   mean| 507.3382352941176|4.210653353718597...|     null|         null|                null|1239196.6649159663|      null|36312.616596638654|      null|     null|                null|       null|1.2345552588130252E8|       null|\n",
      "| stddev|287.20283977678935| 2.576300828101659E7|     null|         null|                null| 2612.648026005403|      null| 23945.49431677531|      null|     null|                null|       null|  2561.1858044909427|       null|\n",
      "|    min|                 1|    4210653310061055|  Acworth|United States|AAguilar@example.com|           1234574|        AL|             01810|      Abby|   Abbott|2018-04-21T12:49:...|       Abby|           123451007|10th Street|\n",
      "|    max|               998|    4210653399939240|     Zion|United States|ZStratton@example...|           1243558|        WI|             98908|     Zelma|   Zapata|2018-04-21T12:49:...|    Zachary|           123459988|York Street|\n",
      "+-------+------------------+--------------------+---------+-------------+--------------------+------------------+----------+------------------+----------+---------+--------------------+-----------+--------------------+-----------+\n",
      "\n",
      "+------+----------------+------------+-------------+--------------------+----------+----------+--------+----------+---------+--------------------+-----------+---------+-----------------+\n",
      "|APT_NO|  CREDIT_CARD_NO|   CUST_CITY| CUST_COUNTRY|          CUST_EMAIL|CUST_PHONE|CUST_STATE|CUST_ZIP|FIRST_NAME|LAST_NAME|        LAST_UPDATED|MIDDLE_NAME|      SSN|      STREET_NAME|\n",
      "+------+----------------+------------+-------------+--------------------+----------+----------+--------+----------+---------+--------------------+-----------+---------+-----------------+\n",
      "|   656|4210653310061055|     Natchez|United States| AHooper@example.com|   1237818|        MS|   39120|      Alec|   Hooper|2018-04-21T12:49:...|         Wm|123456100|Main Street North|\n",
      "|   829|4210653310102868|Wethersfield|United States| EHolman@example.com|   1238933|        CT|   06109|      Etta|   Holman|2018-04-21T12:49:...|    Brendan|123453023|    Redwood Drive|\n",
      "|   683|4210653310116272|     Huntley|United States| WDunham@example.com|   1243018|        IL|   60142|    Wilber|   Dunham|2018-04-21T12:49:...|   Ezequiel|123454487| 12th Street East|\n",
      "|   253|4210653310195948|   NewBerlin|United States|  EHardy@example.com|   1243215|        WI|   53151|   Eugenio|    Hardy|2018-04-21T12:49:...|      Trina|123459758|Country Club Road|\n",
      "|   301|4210653310356919|      ElPaso|United States|  WAyers@example.com|   1242074|        TX|   79930|   Wilfred|    Ayers|2018-04-21T12:49:...|        May|123454431|   Madison Street|\n",
      "|     3|4210653310395982|NorthOlmsted|United States|BWoodard@example.com|   1242570|        OH|   44070|      Beau|  Woodard|2018-04-21T12:49:...|    Ambrose|123454202|   Colonial Drive|\n",
      "|    84|4210653310400536|      Vienna|United States|   SKemp@example.com|   1239685|        VA|   22180|    Sheila|     Kemp|2018-04-21T12:49:...|      Larry|123451799|   Belmont Avenue|\n",
      "|   728|4210653310459911|      Duarte|United States| WHurley@example.com|   1238213|        CA|   91010|     Wendy|   Hurley|2018-04-21T12:49:...|        Ora|123453875|     Oxford Court|\n",
      "|    81|4210653310773972|      Owosso|United States|AGilmore@example.com|   1240689|        MI|   48867|      Alec|  Gilmore|2018-04-21T12:49:...|     Tracie|123457511|    Forest Street|\n",
      "|   561|4210653310794854|        Zion|United States|    BLau@example.com|   1235222|        IL|   60099|    Barbra|      Lau|2018-04-21T12:49:...|    Mitchel|123457464|     Court Street|\n",
      "|   622|4210653310817373|  Youngstown|United States|EThomson@example.com|   1241363|        OH|   44512|   Edmundo|  Thomson|2018-04-21T12:49:...|      Denny|123457639|    Cypress Court|\n",
      "|   924|4210653310844617| Summerville|United States| ETruong@example.com|   1236228|        SC|   29483|      Elsa|   Truong|2018-04-21T12:49:...|   Isabelle|123453242|  8th Street West|\n",
      "|   611|4210653311015303|      ElPaso|United States|HMckinney@example...|   1238165|        TX|   79930|     Homer| Mckinney|2018-04-21T12:49:...|      Henry|123454339|      East Avenue|\n",
      "|   680|4210653311215039|      Fenton|United States|   RKidd@example.com|   1234730|        MI|   48430|      Rita|     Kidd|2018-04-21T12:49:...|     Rickey|123454537|         Route 44|\n",
      "|    71|4210653311229354|  Grandville|United States|ABallard@example.com|   1242113|        MI|   49418|    Amalia|  Ballard|2018-04-21T12:49:...|  Heriberto|123452373|    Warren Street|\n",
      "|   195|4210653311652836|    YubaCity|United States| PThomas@example.com|   1239888|        CA|   95993|     Patty|   Thomas|2018-04-21T12:49:...|   Angelita|123455343|     Jones Street|\n",
      "|   500|4210653311707126|   CapeCoral|United States| JMorrow@example.com|   1240158|        FL|   33904|  Josefina|   Morrow|2018-04-21T12:49:...|   Dorothea|123451533|       New Street|\n",
      "|   989|4210653311730764|  Brookfield|United States|NAndrews@example.com|   1241408|        WI|   53045|    Nelson|  Andrews|2018-04-21T12:49:...|  Jefferson|123459278|  Division Street|\n",
      "|   810|4210653311898082|    Richmond|United States|MSchneider@exampl...|   1238390|        VA|   23223|    Miquel|Schneider|2018-04-21T12:49:...|     Maximo|123456915|     Maple Street|\n",
      "|   649|4210653312021765| WestChester|United States|PTidwell@example.com|   1235067|        PA|   19380|    Parker|  Tidwell|2018-04-21T12:49:...|    Arnulfo|123453807|       Eagle Road|\n",
      "+------+----------------+------------+-------------+--------------------+----------+----------+--------+----------+---------+--------------------+-----------+---------+-----------------+\n",
      "only showing top 20 rows\n",
      "\n"
     ]
    }
   ],
   "source": [
    "customerdf.columns\n",
    "customerdf.printSchema()\n",
    "customerdf.describe().show()\n",
    "customerdf.show()"
   ]
  },
  {
   "cell_type": "code",
   "execution_count": 6,
   "metadata": {},
   "outputs": [],
   "source": [
    "branchdf = spark.read.load(\"cdw_sapp_branch.json\", format=\"json\", header=True, inferSchema=True)"
   ]
  },
  {
   "cell_type": "code",
   "execution_count": 7,
   "metadata": {},
   "outputs": [
    {
     "name": "stdout",
     "output_type": "stream",
     "text": [
      "root\n",
      " |-- BRANCH_CITY: string (nullable = true)\n",
      " |-- BRANCH_CODE: long (nullable = true)\n",
      " |-- BRANCH_NAME: string (nullable = true)\n",
      " |-- BRANCH_PHONE: string (nullable = true)\n",
      " |-- BRANCH_STATE: string (nullable = true)\n",
      " |-- BRANCH_STREET: string (nullable = true)\n",
      " |-- BRANCH_ZIP: long (nullable = true)\n",
      " |-- LAST_UPDATED: string (nullable = true)\n",
      "\n",
      "+-------+-----------+-----------------+------------+--------------------+------------+-------------+------------------+--------------------+\n",
      "|summary|BRANCH_CITY|      BRANCH_CODE| BRANCH_NAME|        BRANCH_PHONE|BRANCH_STATE|BRANCH_STREET|        BRANCH_ZIP|        LAST_UPDATED|\n",
      "+-------+-----------+-----------------+------------+--------------------+------------+-------------+------------------+--------------------+\n",
      "|  count|        115|              115|         115|                 115|         115|          115|               115|                 115|\n",
      "|   mean|       null|76.67826086956522|        null|1.2345499259478261E9|        null|         null|  38975.2347826087|                null|\n",
      "| stddev|       null|52.94113709535237|        null|  258751.74757815443|        null|         null|23938.156819564818|                null|\n",
      "|    min|    Acworth|                1|Example Bank|          1234105725|          AL|  11th Street|              2155|2018-04-18T16:51:...|\n",
      "|    max|   YubaCity|              197|Example Bank|          1234985926|          WI|  York Street|             98908|2018-04-18T16:51:...|\n",
      "+-------+-----------+-----------------+------------+--------------------+------------+-------------+------------------+--------------------+\n",
      "\n",
      "+-----------------+-----------+------------+------------+------------+-------------------+----------+--------------------+\n",
      "|      BRANCH_CITY|BRANCH_CODE| BRANCH_NAME|BRANCH_PHONE|BRANCH_STATE|      BRANCH_STREET|BRANCH_ZIP|        LAST_UPDATED|\n",
      "+-----------------+-----------+------------+------------+------------+-------------------+----------+--------------------+\n",
      "|        Lakeville|          1|Example Bank|  1234565276|          MN|       Bridle Court|     55044|2018-04-18T16:51:...|\n",
      "|          Huntley|          2|Example Bank|  1234618993|          IL|  Washington Street|     60142|2018-04-18T16:51:...|\n",
      "|SouthRichmondHill|          3|Example Bank|  1234985926|          NY|      Warren Street|     11419|2018-04-18T16:51:...|\n",
      "|       Middleburg|          4|Example Bank|  1234663064|          FL|   Cleveland Street|     32068|2018-04-18T16:51:...|\n",
      "|    KingOfPrussia|          5|Example Bank|  1234849701|          PA|        14th Street|     19406|2018-04-18T16:51:...|\n",
      "|         Paterson|          7|Example Bank|  1234144890|          NJ|   Jefferson Street|      7501|2018-04-18T16:51:...|\n",
      "|        Pittsford|          8|Example Bank|  1234678272|          NY|           B Street|     14534|2018-04-18T16:51:...|\n",
      "|     Wethersfield|          9|Example Bank|  1234675219|          CT|    Jefferson Court|      6109|2018-04-18T16:51:...|\n",
      "|     NorthOlmsted|         10|Example Bank|  1234145047|          OH|     Cambridge Road|     44070|2018-04-18T16:51:...|\n",
      "|     Hillsborough|         11|Example Bank|  1234366354|          NJ|    3rd Street West|      8844|2018-04-18T16:51:...|\n",
      "|   MadisonHeights|         12|Example Bank|  1234867175|          MI|          Mill Road|     48071|2018-04-18T16:51:...|\n",
      "|           Oviedo|         14|Example Bank|  1234938460|          FL|  Washington Street|     32765|2018-04-18T16:51:...|\n",
      "|    Mechanicsburg|         15|Example Bank|  1234462043|          PA|    Chestnut Street|     17050|2018-04-18T16:51:...|\n",
      "|        Plainview|         16|Example Bank|  1234857525|          NY|       Monroe Drive|     11803|2018-04-18T16:51:...|\n",
      "|          Paducah|         17|Example Bank|  1234546360|          KY|    Railroad Street|     42001|2018-04-18T16:51:...|\n",
      "|     Harleysville|         18|Example Bank|  1234824455|          PA|Church Street South|     19438|2018-04-18T16:51:...|\n",
      "|     SilverSpring|         19|Example Bank|  1234484380|          MD|        King Street|     20901|2018-04-18T16:51:...|\n",
      "|       Burnsville|         20|Example Bank|  1234840138|          MN|   Canterbury Drive|     55337|2018-04-18T16:51:...|\n",
      "|           Tacoma|         21|Example Bank|  1234362433|          WA|         2nd Avenue|     98444|2018-04-18T16:51:...|\n",
      "|         Carlisle|         22|Example Bank|  1234922492|          PA| Front Street South|     17013|2018-04-18T16:51:...|\n",
      "+-----------------+-----------+------------+------------+------------+-------------------+----------+--------------------+\n",
      "only showing top 20 rows\n",
      "\n"
     ]
    }
   ],
   "source": [
    "branchdf.columns\n",
    "branchdf.printSchema()\n",
    "branchdf.describe().show()\n",
    "branchdf.show()"
   ]
  }
 ],
 "metadata": {
  "kernelspec": {
   "display_name": "Python 3",
   "language": "python",
   "name": "python3"
  },
  "language_info": {
   "codemirror_mode": {
    "name": "ipython",
    "version": 3
   },
   "file_extension": ".py",
   "mimetype": "text/x-python",
   "name": "python",
   "nbconvert_exporter": "python",
   "pygments_lexer": "ipython3",
   "version": "3.10.11"
  },
  "orig_nbformat": 4
 },
 "nbformat": 4,
 "nbformat_minor": 2
}
